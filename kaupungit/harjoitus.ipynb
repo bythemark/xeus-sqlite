{
 "cells": [
  {
   "cell_type": "code",
   "execution_count": null,
   "metadata": {},
   "outputs": [],
   "source": [
    "%LOAD kaupungit.db"
   ]
  },
  {
   "cell_type": "code",
   "execution_count": null,
   "metadata": {},
   "outputs": [],
   "source": [
    "SELECT nimi, populaatio FROM kaupungit WHERE valtio = \"FINLAND\" AND populaatio >= 100000"
   ]
  },
  {
   "cell_type": "code",
   "execution_count": null,
   "metadata": {},
   "outputs": [],
   "source": [
    "SELECT nimi, populaatio FROM kaupungit WHERE populaatio >= 10000000 ORDER BY populaatio DESC"
   ]
  },
  {
   "cell_type": "code",
   "execution_count": null,
   "metadata": {},
   "outputs": [],
   "source": [
    "SELECT nimi, populaatio FROM kaupungit WHERE lat<0 AND populaatio >= 5000000 ORDER BY populaatio DESC"
   ]
  },
  {
   "cell_type": "code",
   "execution_count": null,
   "metadata": {},
   "outputs": [],
   "source": [
    "SELECT nimi, populaatio, valtio FROM kaupungit WHERE valtio IN (\"CANADA\", \"UNITED STATES\", \"MEXICO\") ORDER BY populaatio DESC LIMIT 5"
   ]
  },
  {
   "cell_type": "code",
   "execution_count": null,
   "metadata": {},
   "outputs": [],
   "source": [
    "SELECT sum(populaatio) FROM kaupungit WHERE valtio = \"FINLAND\""
   ]
  },
  {
   "cell_type": "code",
   "execution_count": null,
   "metadata": {},
   "outputs": [],
   "source": [
    "SELECT nimi, max(populaatio) FROM kaupungit WHERE valtio = \"FINLAND\""
   ]
  },
  {
   "cell_type": "code",
   "execution_count": null,
   "metadata": {},
   "outputs": [],
   "source": [
    "SELECT count(*) FROM kaupungit WHERE populaatio >= 10000000"
   ]
  },
  {
   "cell_type": "code",
   "execution_count": null,
   "metadata": {},
   "outputs": [],
   "source": [
    "SELECT count(*) FROM kaupungit WHERE lat < 0"
   ]
  },
  {
   "cell_type": "code",
   "execution_count": null,
   "metadata": {},
   "outputs": [],
   "source": [
    "SELECT nimi, populaatio, valtio FROM kaupungit WHERE populaatio > (SELECT populaatio FROM kaupungit WHERE nimi = \"New York\" )"
   ]
  },
  {
   "cell_type": "code",
   "execution_count": null,
   "metadata": {},
   "outputs": [],
   "source": [
    "SELECT nimi, valtio, populaatio FROM kaupungit WHERE populaatio > (SELECT sum(populaatio) FROM kaupungit WHERE valtio = \"FINLAND\")"
   ]
  },
  {
   "cell_type": "code",
   "execution_count": null,
   "metadata": {},
   "outputs": [],
   "source": [
    "SELECT count(*) FROM kaupungit WHERE valtio = \"FINLAND\" AND lon > (SELECT lon FROM kaupungit WHERE nimi = \"Helsinki\")"
   ]
  },
  {
   "cell_type": "code",
   "execution_count": null,
   "metadata": {},
   "outputs": [],
   "source": [
    "d.	SELECT nimi FROM kaupungit WHERE valtio = \"FINLAND\" AND lon > (SELECT lon FROM kaupungit WHERE nimi = \"Helsinki\") ORDER BY populaatio DESC LIMIT 1"
   ]
  },
  {
   "cell_type": "code",
   "execution_count": null,
   "metadata": {},
   "outputs": [],
   "source": [
    "SELECT COUNT(*) FROM kaupungit"
   ]
  },
  {
   "cell_type": "code",
   "execution_count": null,
   "metadata": {},
   "outputs": [],
   "source": [
    "SELECT SUM(populaatio) FROM kaupungit"
   ]
  },
  {
   "cell_type": "code",
   "execution_count": null,
   "metadata": {},
   "outputs": [],
   "source": [
    "SELECT SUM(populaatio) FROM kaupungit WHERE lat<0"
   ]
  }
 ],
 "metadata": {
  "kernelspec": {
   "display_name": "xsqlite",
   "language": "sqlite",
   "name": "xsqlite"
  },
  "language_info": {
   "codemirror_mode": "sql",
   "file_extension": "",
   "mimetype": "",
   "name": "sqlite3",
   "version": "3.33.0"
  }
 },
 "nbformat": 4,
 "nbformat_minor": 4
}
